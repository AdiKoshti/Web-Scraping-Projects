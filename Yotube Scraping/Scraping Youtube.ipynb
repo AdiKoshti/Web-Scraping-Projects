{
 "cells": [
  {
   "cell_type": "markdown",
   "id": "f631f374-237d-46c6-87be-d276d8404ea5",
   "metadata": {},
   "source": [
    "## Scraping Youtube with Python\r",
    "#### Web Scraping is a specialized tool designed to quickly and accurately extract data from any web page. Web scraping tools vary greatly in terms of design and complexity, depending on the project. The need for web scraping is to collect data that can be useful in any way.\n"
   ]
  },
  {
   "cell_type": "code",
   "execution_count": 3,
   "id": "3cf1192b-53cd-43ae-916a-85d9ecc31f80",
   "metadata": {},
   "outputs": [],
   "source": [
    "from pytube import YouTube"
   ]
  },
  {
   "cell_type": "code",
   "execution_count": null,
   "id": "0f6e2b8e-c9fd-444c-b5a4-013c2b0d9899",
   "metadata": {},
   "outputs": [],
   "source": [
    "link = input(\"Enter Link of Youtube Video: \")\n",
    "yt = YouTube(link)"
   ]
  },
  {
   "cell_type": "code",
   "execution_count": null,
   "id": "2ee946fb-d04a-46c8-a96d-ad197093133b",
   "metadata": {},
   "outputs": [],
   "source": [
    "# To print title\n",
    "print(\"Title :\", yt.title)\n",
    "# To get number of views\n",
    "print(\"Views :\", yt.views)\n",
    "# To get the length of video\n",
    "print(\"Duration :\", yt.length)\n",
    "# To get description\n",
    "print(\"Description :\", yt.description)\n",
    "# To get ratings\n",
    "print(\"Ratings :\", yt.rating)"
   ]
  },
  {
   "cell_type": "code",
   "execution_count": null,
   "id": "e2f87832-48cd-4ed5-b60e-7d0c4c2c3d2a",
   "metadata": {},
   "outputs": [],
   "source": [
    "stream = yt.streams.get_highest_resolution()\n",
    "stream.download()\n",
    "print(\"Download completed!!\")"
   ]
  },
  {
   "cell_type": "code",
   "execution_count": null,
   "id": "e78ad9c8-de7a-4adf-b2ba-450a1b33ae7b",
   "metadata": {},
   "outputs": [],
   "source": []
  },
  {
   "cell_type": "code",
   "execution_count": null,
   "id": "0978dde4-116d-405a-93dd-83b09ee0609f",
   "metadata": {},
   "outputs": [],
   "source": []
  },
  {
   "cell_type": "code",
   "execution_count": null,
   "id": "87f50d4d-7c54-4de2-bda1-57ecd6981b80",
   "metadata": {},
   "outputs": [],
   "source": []
  },
  {
   "cell_type": "code",
   "execution_count": null,
   "id": "8b335468-6efc-4365-965a-1822ca3de1e3",
   "metadata": {},
   "outputs": [],
   "source": []
  },
  {
   "cell_type": "code",
   "execution_count": null,
   "id": "709c1d92-cc0f-4a9c-8312-cec5759473c5",
   "metadata": {},
   "outputs": [],
   "source": []
  },
  {
   "cell_type": "code",
   "execution_count": null,
   "id": "b5612ef0-c4c9-4121-84ca-e33f5bbe42b5",
   "metadata": {},
   "outputs": [],
   "source": []
  },
  {
   "cell_type": "code",
   "execution_count": null,
   "id": "20aaef85-044a-4564-a528-09c26dcb0cf4",
   "metadata": {},
   "outputs": [],
   "source": []
  },
  {
   "cell_type": "code",
   "execution_count": null,
   "id": "b40cfa16-3489-4193-8171-449f8e8fc480",
   "metadata": {},
   "outputs": [],
   "source": []
  },
  {
   "cell_type": "code",
   "execution_count": null,
   "id": "b73b849f-b682-474e-9e90-fbe55d97767f",
   "metadata": {},
   "outputs": [],
   "source": []
  },
  {
   "cell_type": "code",
   "execution_count": null,
   "id": "67229a8c-b877-4dda-9056-898b5b78e08a",
   "metadata": {},
   "outputs": [],
   "source": []
  },
  {
   "cell_type": "code",
   "execution_count": null,
   "id": "b77e5615-a1ab-4dbc-ba2a-d3d48ca7b4b0",
   "metadata": {},
   "outputs": [],
   "source": []
  },
  {
   "cell_type": "code",
   "execution_count": null,
   "id": "a63f99d3-a023-4718-ab7c-4188e804dfcd",
   "metadata": {},
   "outputs": [],
   "source": []
  },
  {
   "cell_type": "code",
   "execution_count": null,
   "id": "deaec6a7-b5a6-47a7-b739-ba06abe434c5",
   "metadata": {},
   "outputs": [],
   "source": []
  },
  {
   "cell_type": "code",
   "execution_count": null,
   "id": "b017bf71-0043-4a1a-8f19-716df968b641",
   "metadata": {},
   "outputs": [],
   "source": []
  },
  {
   "cell_type": "code",
   "execution_count": null,
   "id": "a3c5c5c8-3273-4ca3-ba9d-66cd00b18031",
   "metadata": {},
   "outputs": [],
   "source": []
  },
  {
   "cell_type": "code",
   "execution_count": null,
   "id": "5223d8de-ad52-4752-821e-89497f002488",
   "metadata": {},
   "outputs": [],
   "source": []
  },
  {
   "cell_type": "code",
   "execution_count": null,
   "id": "c4bad244-8b97-4bd0-8fef-5b29f5a23088",
   "metadata": {},
   "outputs": [],
   "source": []
  }
 ],
 "metadata": {
  "kernelspec": {
   "display_name": "Python 3 (ipykernel)",
   "language": "python",
   "name": "python3"
  },
  "language_info": {
   "codemirror_mode": {
    "name": "ipython",
    "version": 3
   },
   "file_extension": ".py",
   "mimetype": "text/x-python",
   "name": "python",
   "nbconvert_exporter": "python",
   "pygments_lexer": "ipython3",
   "version": "3.11.7"
  }
 },
 "nbformat": 4,
 "nbformat_minor": 5
}
